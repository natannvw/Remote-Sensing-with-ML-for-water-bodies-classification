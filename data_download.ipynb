{
  "cells": [
    {
      "cell_type": "markdown",
      "metadata": {},
      "source": [
        "# Dataset preparation"
      ]
    },
    {
      "cell_type": "code",
      "execution_count": 1,
      "metadata": {
        "id": "IM8i1NRtegH4"
      },
      "outputs": [],
      "source": [
        "import os"
      ]
    },
    {
      "cell_type": "markdown",
      "metadata": {},
      "source": [
        "Connect to the cloud"
      ]
    },
    {
      "cell_type": "code",
      "execution_count": null,
      "metadata": {},
      "outputs": [],
      "source": [
        "!gcloud auth login"
      ]
    },
    {
      "cell_type": "markdown",
      "metadata": {},
      "source": [
        "Data"
      ]
    },
    {
      "cell_type": "code",
      "execution_count": 31,
      "metadata": {},
      "outputs": [],
      "source": [
        "S2Hand_path = \"sen1floods11/v1.1/data/flood_events/HandLabeled/S2Hand\"\n",
        "LabelHand_path = \"sen1floods11/v1.1/data/flood_events/HandLabeled/LabelHand\"\n",
        "\n",
        "os.makedirs(S2Hand_path, exist_ok=True)\n",
        "os.makedirs(LabelHand_path, exist_ok=True)"
      ]
    },
    {
      "cell_type": "code",
      "execution_count": null,
      "metadata": {},
      "outputs": [],
      "source": [
        "!gsutil -m rsync -r gs://sen1floods11/$S2Hand_path $S2Hand_path\n",
        "!gsutil -m rsync -r gs://sen1floods11/$LabelHand_path $LabelHand_path"
      ]
    },
    {
      "cell_type": "markdown",
      "metadata": {},
      "source": [
        "Test splits"
      ]
    },
    {
      "cell_type": "code",
      "execution_count": 13,
      "metadata": {},
      "outputs": [],
      "source": [
        "splits_path = \"sen1floods11/v1.1/splits/flood_handlabeled\"\n",
        "os.makedirs(splits_path, exist_ok=True)"
      ]
    },
    {
      "cell_type": "code",
      "execution_count": null,
      "metadata": {},
      "outputs": [],
      "source": [
        "!gsutil -m rsync -r gs://sen1floods11/$splits_path $splits_path"
      ]
    },
    {
      "cell_type": "markdown",
      "metadata": {},
      "source": [
        "# Step 1"
      ]
    },
    {
      "cell_type": "markdown",
      "metadata": {},
      "source": [
        "## Number of images in each split and each region"
      ]
    },
    {
      "cell_type": "markdown",
      "metadata": {},
      "source": [
        "### By split:"
      ]
    },
    {
      "cell_type": "code",
      "execution_count": 25,
      "metadata": {},
      "outputs": [],
      "source": [
        "import pandas as pd\n",
        "\n",
        "bolivia_data_path = os.path.join(splits_path, \"flood_bolivia_data.csv\")\n",
        "train_data_path = os.path.join(splits_path, \"flood_train_data.csv\")\n",
        "val_data_path = os.path.join(splits_path, \"flood_valid_data.csv\")\n",
        "test_data_path = os.path.join(splits_path, \"flood_test_data.csv\")\n",
        "\n",
        "bolivia_data = pd.read_csv(bolivia_data_path, header=None, names=[\"scene\", \"mask\"])\n",
        "train_data = pd.read_csv(train_data_path, header=None, names=[\"scene\", \"mask\"])\n",
        "valid_data = pd.read_csv(val_data_path, header=None, names=[\"scene\", \"mask\"])\n",
        "test_data = pd.read_csv(test_data_path, header=None, names=[\"scene\", \"mask\"])"
      ]
    },
    {
      "cell_type": "code",
      "execution_count": 29,
      "metadata": {},
      "outputs": [
        {
          "data": {
            "text/html": [
              "<div>\n",
              "<style scoped>\n",
              "    .dataframe tbody tr th:only-of-type {\n",
              "        vertical-align: middle;\n",
              "    }\n",
              "\n",
              "    .dataframe tbody tr th {\n",
              "        vertical-align: top;\n",
              "    }\n",
              "\n",
              "    .dataframe thead th {\n",
              "        text-align: right;\n",
              "    }\n",
              "</style>\n",
              "<table border=\"1\" class=\"dataframe\">\n",
              "  <thead>\n",
              "    <tr style=\"text-align: right;\">\n",
              "      <th></th>\n",
              "      <th>scene</th>\n",
              "      <th>mask</th>\n",
              "    </tr>\n",
              "  </thead>\n",
              "  <tbody>\n",
              "    <tr>\n",
              "      <th>0</th>\n",
              "      <td>Bolivia_103757_S1Hand.tif</td>\n",
              "      <td>Bolivia_103757_LabelHand.tif</td>\n",
              "    </tr>\n",
              "    <tr>\n",
              "      <th>1</th>\n",
              "      <td>Bolivia_129334_S1Hand.tif</td>\n",
              "      <td>Bolivia_129334_LabelHand.tif</td>\n",
              "    </tr>\n",
              "    <tr>\n",
              "      <th>2</th>\n",
              "      <td>Bolivia_195474_S1Hand.tif</td>\n",
              "      <td>Bolivia_195474_LabelHand.tif</td>\n",
              "    </tr>\n",
              "    <tr>\n",
              "      <th>3</th>\n",
              "      <td>Bolivia_23014_S1Hand.tif</td>\n",
              "      <td>Bolivia_23014_LabelHand.tif</td>\n",
              "    </tr>\n",
              "    <tr>\n",
              "      <th>4</th>\n",
              "      <td>Bolivia_233925_S1Hand.tif</td>\n",
              "      <td>Bolivia_233925_LabelHand.tif</td>\n",
              "    </tr>\n",
              "  </tbody>\n",
              "</table>\n",
              "</div>"
            ],
            "text/plain": [
              "                       scene                          mask\n",
              "0  Bolivia_103757_S1Hand.tif  Bolivia_103757_LabelHand.tif\n",
              "1  Bolivia_129334_S1Hand.tif  Bolivia_129334_LabelHand.tif\n",
              "2  Bolivia_195474_S1Hand.tif  Bolivia_195474_LabelHand.tif\n",
              "3   Bolivia_23014_S1Hand.tif   Bolivia_23014_LabelHand.tif\n",
              "4  Bolivia_233925_S1Hand.tif  Bolivia_233925_LabelHand.tif"
            ]
          },
          "execution_count": 29,
          "metadata": {},
          "output_type": "execute_result"
        }
      ],
      "source": [
        "bolivia_data.head()"
      ]
    },
    {
      "cell_type": "code",
      "execution_count": 28,
      "metadata": {},
      "outputs": [
        {
          "name": "stdout",
          "output_type": "stream",
          "text": [
            "Number of Bolivia scenes: 15\n",
            "Number of training scenes: 252\n",
            "Number of validation scenes: 89\n",
            "Number of test scenes: 90\n"
          ]
        }
      ],
      "source": [
        "num_bolivia = bolivia_data.shape[0]\n",
        "num_train = train_data.shape[0]\n",
        "num_valid = valid_data.shape[0]\n",
        "num_test = test_data.shape[0]\n",
        "\n",
        "print(f\"Number of Bolivia scenes: {num_bolivia}\")\n",
        "print(f\"Number of training scenes: {num_train}\")\n",
        "print(f\"Number of validation scenes: {num_valid}\")\n",
        "print(f\"Number of test scenes: {num_test}\")"
      ]
    },
    {
      "cell_type": "markdown",
      "metadata": {},
      "source": [
        "### By region:"
      ]
    },
    {
      "cell_type": "markdown",
      "metadata": {},
      "source": [
        "List all files in the S2Hand_path.\n",
        "Each file follows the naming scheme EVENT_CHIPID_LAYER.tif (e.g. Bolivia_103757_S2Hand.tif) so EVENT is the region."
      ]
    },
    {
      "cell_type": "code",
      "execution_count": null,
      "metadata": {},
      "outputs": [],
      "source": [
        "region_counts = {}\n",
        "\n",
        "for filename in os.listdir(S2Hand_path):\n",
        "    if filename.endswith(\".tif\"):\n",
        "        region_name = filename.split('_')[0]                                # Extract the region name (EVENT part of the filename)\n",
        "        region_counts[region_name] = region_counts.get(region_name, 0) + 1"
      ]
    },
    {
      "cell_type": "code",
      "execution_count": 75,
      "metadata": {},
      "outputs": [
        {
          "data": {
            "text/html": [
              "<div>\n",
              "<style scoped>\n",
              "    .dataframe tbody tr th:only-of-type {\n",
              "        vertical-align: middle;\n",
              "    }\n",
              "\n",
              "    .dataframe tbody tr th {\n",
              "        vertical-align: top;\n",
              "    }\n",
              "\n",
              "    .dataframe thead th {\n",
              "        text-align: right;\n",
              "    }\n",
              "</style>\n",
              "<table border=\"1\" class=\"dataframe\">\n",
              "  <thead>\n",
              "    <tr style=\"text-align: right;\">\n",
              "      <th></th>\n",
              "      <th>Region</th>\n",
              "      <th>Count</th>\n",
              "    </tr>\n",
              "  </thead>\n",
              "  <tbody>\n",
              "    <tr>\n",
              "      <th>0</th>\n",
              "      <td>Bolivia</td>\n",
              "      <td>15</td>\n",
              "    </tr>\n",
              "    <tr>\n",
              "      <th>1</th>\n",
              "      <td>Ghana</td>\n",
              "      <td>53</td>\n",
              "    </tr>\n",
              "    <tr>\n",
              "      <th>2</th>\n",
              "      <td>India</td>\n",
              "      <td>68</td>\n",
              "    </tr>\n",
              "    <tr>\n",
              "      <th>3</th>\n",
              "      <td>Mekong</td>\n",
              "      <td>30</td>\n",
              "    </tr>\n",
              "    <tr>\n",
              "      <th>4</th>\n",
              "      <td>Nigeria</td>\n",
              "      <td>18</td>\n",
              "    </tr>\n",
              "    <tr>\n",
              "      <th>5</th>\n",
              "      <td>Pakistan</td>\n",
              "      <td>28</td>\n",
              "    </tr>\n",
              "    <tr>\n",
              "      <th>6</th>\n",
              "      <td>Paraguay</td>\n",
              "      <td>67</td>\n",
              "    </tr>\n",
              "    <tr>\n",
              "      <th>7</th>\n",
              "      <td>Somalia</td>\n",
              "      <td>26</td>\n",
              "    </tr>\n",
              "    <tr>\n",
              "      <th>8</th>\n",
              "      <td>Spain</td>\n",
              "      <td>30</td>\n",
              "    </tr>\n",
              "    <tr>\n",
              "      <th>9</th>\n",
              "      <td>Sri-Lanka</td>\n",
              "      <td>42</td>\n",
              "    </tr>\n",
              "    <tr>\n",
              "      <th>10</th>\n",
              "      <td>USA</td>\n",
              "      <td>69</td>\n",
              "    </tr>\n",
              "  </tbody>\n",
              "</table>\n",
              "</div>"
            ],
            "text/plain": [
              "       Region  Count\n",
              "0     Bolivia     15\n",
              "1       Ghana     53\n",
              "2       India     68\n",
              "3      Mekong     30\n",
              "4     Nigeria     18\n",
              "5    Pakistan     28\n",
              "6    Paraguay     67\n",
              "7     Somalia     26\n",
              "8       Spain     30\n",
              "9   Sri-Lanka     42\n",
              "10        USA     69"
            ]
          },
          "execution_count": 75,
          "metadata": {},
          "output_type": "execute_result"
        }
      ],
      "source": [
        "df = pd.DataFrame.from_dict(region_counts, orient='index', columns=['Count'])\n",
        "df.index.name = 'Region'\n",
        "df.reset_index(inplace=True)\n",
        "df"
      ]
    },
    {
      "cell_type": "code",
      "execution_count": 34,
      "metadata": {},
      "outputs": [
        {
          "data": {
            "text/plain": [
              "446"
            ]
          },
          "execution_count": 34,
          "metadata": {},
          "output_type": "execute_result"
        }
      ],
      "source": [
        "total_number = sum(region_counts.values())\n",
        "total_number"
      ]
    },
    {
      "cell_type": "markdown",
      "metadata": {},
      "source": [
        "## Per-channel mean and standard deviation."
      ]
    },
    {
      "cell_type": "code",
      "execution_count": 51,
      "metadata": {},
      "outputs": [],
      "source": [
        "import rasterio\n",
        "import numpy as np\n",
        "\n",
        "image_paths = [os.path.join(S2Hand_path, filename) for filename in os.listdir(S2Hand_path) if filename.endswith('.tif')]\n",
        "\n",
        "scenes_list = []\n",
        "\n",
        "# Read the image data into a list of arrays\n",
        "for image_path in image_paths:\n",
        "    with rasterio.open(image_path) as src:\n",
        "        scenes_list.append(src.read())"
      ]
    },
    {
      "cell_type": "code",
      "execution_count": 59,
      "metadata": {},
      "outputs": [],
      "source": [
        "# from matplotlib import pyplot as plt\n",
        "\n",
        "# plt.imshow(scenes_list[0][0, :, :], cmap='gray')"
      ]
    },
    {
      "cell_type": "code",
      "execution_count": 54,
      "metadata": {},
      "outputs": [
        {
          "data": {
            "text/plain": [
              "(446, 13, 512, 512)"
            ]
          },
          "execution_count": 54,
          "metadata": {},
          "output_type": "execute_result"
        }
      ],
      "source": [
        "# Convert into (scenes, bands, height, width)\n",
        "scenes_array = np.array(scenes_list)\n",
        "scenes_array.shape"
      ]
    },
    {
      "cell_type": "code",
      "execution_count": 74,
      "metadata": {},
      "outputs": [],
      "source": [
        "import utils"
      ]
    },
    {
      "cell_type": "code",
      "execution_count": null,
      "metadata": {},
      "outputs": [],
      "source": [
        "scenes_array = utils.dn2reflectance(scenes_array)"
      ]
    },
    {
      "cell_type": "code",
      "execution_count": 64,
      "metadata": {},
      "outputs": [],
      "source": [
        "wavelengths = utils.get_satellite_wavelength(\"sentinel2\")\n",
        "bands_names = utils.get_bands_names(wavelengths)"
      ]
    },
    {
      "cell_type": "code",
      "execution_count": null,
      "metadata": {},
      "outputs": [],
      "source": [
        "means = scenes_array.mean(axis=(0, 2, 3))\n",
        "std_devs = scenes_array.std(axis=(0, 2, 3))"
      ]
    },
    {
      "cell_type": "code",
      "execution_count": 73,
      "metadata": {},
      "outputs": [
        {
          "data": {
            "text/html": [
              "<div>\n",
              "<style scoped>\n",
              "    .dataframe tbody tr th:only-of-type {\n",
              "        vertical-align: middle;\n",
              "    }\n",
              "\n",
              "    .dataframe tbody tr th {\n",
              "        vertical-align: top;\n",
              "    }\n",
              "\n",
              "    .dataframe thead th {\n",
              "        text-align: right;\n",
              "    }\n",
              "</style>\n",
              "<table border=\"1\" class=\"dataframe\">\n",
              "  <thead>\n",
              "    <tr style=\"text-align: right;\">\n",
              "      <th></th>\n",
              "      <th>Band</th>\n",
              "      <th>Mean</th>\n",
              "      <th>STD</th>\n",
              "    </tr>\n",
              "  </thead>\n",
              "  <tbody>\n",
              "    <tr>\n",
              "      <th>0</th>\n",
              "      <td>B01</td>\n",
              "      <td>0.161226</td>\n",
              "      <td>0.069464</td>\n",
              "    </tr>\n",
              "    <tr>\n",
              "      <th>1</th>\n",
              "      <td>B02</td>\n",
              "      <td>0.137989</td>\n",
              "      <td>0.073459</td>\n",
              "    </tr>\n",
              "    <tr>\n",
              "      <th>2</th>\n",
              "      <td>B03</td>\n",
              "      <td>0.134443</td>\n",
              "      <td>0.073161</td>\n",
              "    </tr>\n",
              "    <tr>\n",
              "      <th>3</th>\n",
              "      <td>B04</td>\n",
              "      <td>0.119516</td>\n",
              "      <td>0.086060</td>\n",
              "    </tr>\n",
              "    <tr>\n",
              "      <th>4</th>\n",
              "      <td>B05</td>\n",
              "      <td>0.143917</td>\n",
              "      <td>0.077136</td>\n",
              "    </tr>\n",
              "    <tr>\n",
              "      <th>5</th>\n",
              "      <td>B06</td>\n",
              "      <td>0.234425</td>\n",
              "      <td>0.092163</td>\n",
              "    </tr>\n",
              "    <tr>\n",
              "      <th>6</th>\n",
              "      <td>B07</td>\n",
              "      <td>0.279647</td>\n",
              "      <td>0.108803</td>\n",
              "    </tr>\n",
              "    <tr>\n",
              "      <th>7</th>\n",
              "      <td>B08</td>\n",
              "      <td>0.257841</td>\n",
              "      <td>0.102925</td>\n",
              "    </tr>\n",
              "    <tr>\n",
              "      <th>8</th>\n",
              "      <td>B8A</td>\n",
              "      <td>0.302382</td>\n",
              "      <td>0.120511</td>\n",
              "    </tr>\n",
              "    <tr>\n",
              "      <th>9</th>\n",
              "      <td>B09</td>\n",
              "      <td>0.047673</td>\n",
              "      <td>0.033169</td>\n",
              "    </tr>\n",
              "    <tr>\n",
              "      <th>10</th>\n",
              "      <td>B10</td>\n",
              "      <td>0.005924</td>\n",
              "      <td>0.013040</td>\n",
              "    </tr>\n",
              "    <tr>\n",
              "      <th>11</th>\n",
              "      <td>B11</td>\n",
              "      <td>0.198919</td>\n",
              "      <td>0.099371</td>\n",
              "    </tr>\n",
              "    <tr>\n",
              "      <th>12</th>\n",
              "      <td>B12</td>\n",
              "      <td>0.115249</td>\n",
              "      <td>0.076889</td>\n",
              "    </tr>\n",
              "  </tbody>\n",
              "</table>\n",
              "</div>"
            ],
            "text/plain": [
              "   Band      Mean       STD\n",
              "0   B01  0.161226  0.069464\n",
              "1   B02  0.137989  0.073459\n",
              "2   B03  0.134443  0.073161\n",
              "3   B04  0.119516  0.086060\n",
              "4   B05  0.143917  0.077136\n",
              "5   B06  0.234425  0.092163\n",
              "6   B07  0.279647  0.108803\n",
              "7   B08  0.257841  0.102925\n",
              "8   B8A  0.302382  0.120511\n",
              "9   B09  0.047673  0.033169\n",
              "10  B10  0.005924  0.013040\n",
              "11  B11  0.198919  0.099371\n",
              "12  B12  0.115249  0.076889"
            ]
          },
          "execution_count": 73,
          "metadata": {},
          "output_type": "execute_result"
        }
      ],
      "source": [
        "channel_stats = pd.DataFrame({\"Band\": bands_names, 'Mean': means, 'STD': std_devs})\n",
        "channel_stats"
      ]
    }
  ],
  "metadata": {
    "colab": {
      "authorship_tag": "ABX9TyMRARi+w7NkJ3izlFtvU9g8",
      "include_colab_link": true,
      "provenance": []
    },
    "kernelspec": {
      "display_name": "Python 3",
      "name": "python3"
    },
    "language_info": {
      "codemirror_mode": {
        "name": "ipython",
        "version": 3
      },
      "file_extension": ".py",
      "mimetype": "text/x-python",
      "name": "python",
      "nbconvert_exporter": "python",
      "pygments_lexer": "ipython3",
      "version": "3.11.3"
    }
  },
  "nbformat": 4,
  "nbformat_minor": 0
}
