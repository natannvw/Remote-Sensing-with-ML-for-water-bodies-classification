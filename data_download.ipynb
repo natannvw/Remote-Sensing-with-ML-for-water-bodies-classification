{
  "cells": [
    {
      "cell_type": "markdown",
      "metadata": {},
      "source": [
        "# Dataset preparation"
      ]
    },
    {
      "cell_type": "code",
      "execution_count": null,
      "metadata": {},
      "outputs": [],
      "source": []
    },
    {
      "cell_type": "code",
      "execution_count": 1,
      "metadata": {
        "id": "IM8i1NRtegH4"
      },
      "outputs": [],
      "source": [
        "import os"
      ]
    },
    {
      "cell_type": "markdown",
      "metadata": {},
      "source": [
        "Connect to the cloud"
      ]
    },
    {
      "cell_type": "code",
      "execution_count": null,
      "metadata": {},
      "outputs": [],
      "source": [
        "!gcloud auth login"
      ]
    },
    {
      "cell_type": "markdown",
      "metadata": {},
      "source": [
        "Data"
      ]
    },
    {
      "cell_type": "code",
      "execution_count": 4,
      "metadata": {},
      "outputs": [],
      "source": [
        "S2Hand_path = \"sen1floods11/v1.1/data/flood_events/HandLabeled/S2Hand\"\n",
        "LabelHand_path = \"sen1floods11/v1.1/data/flood_events/HandLabeled/LabelHand\"\n",
        "\n",
        "os.makedirs(S2Hand_path, exist_ok=True)\n",
        "os.makedirs(LabelHand_path, exist_ok=True)"
      ]
    },
    {
      "cell_type": "code",
      "execution_count": null,
      "metadata": {},
      "outputs": [],
      "source": [
        "!gsutil -m rsync -r gs://sen1floods11/$S2Hand_path $S2Hand_path\n",
        "!gsutil -m rsync -r gs://sen1floods11/$LabelHand_path $LabelHand_path"
      ]
    },
    {
      "cell_type": "markdown",
      "metadata": {},
      "source": [
        "Test splits"
      ]
    },
    {
      "cell_type": "code",
      "execution_count": 13,
      "metadata": {},
      "outputs": [],
      "source": [
        "splits_path = \"sen1floods11/v1.1/splits/flood_handlabeled\"\n",
        "os.makedirs(splits_path, exist_ok=True)"
      ]
    },
    {
      "cell_type": "code",
      "execution_count": null,
      "metadata": {},
      "outputs": [],
      "source": [
        "!gsutil -m rsync -r gs://sen1floods11/$splits_path $splits_path"
      ]
    },
    {
      "cell_type": "markdown",
      "metadata": {},
      "source": [
        "# Step 1"
      ]
    },
    {
      "cell_type": "markdown",
      "metadata": {},
      "source": [
        "## Number of images in each split and each region"
      ]
    },
    {
      "cell_type": "markdown",
      "metadata": {},
      "source": [
        "### By split:"
      ]
    },
    {
      "cell_type": "code",
      "execution_count": 25,
      "metadata": {},
      "outputs": [],
      "source": [
        "import pandas as pd\n",
        "\n",
        "bolivia_data_path = os.path.join(splits_path, \"flood_bolivia_data.csv\")\n",
        "train_data_path = os.path.join(splits_path, \"flood_train_data.csv\")\n",
        "val_data_path = os.path.join(splits_path, \"flood_valid_data.csv\")\n",
        "test_data_path = os.path.join(splits_path, \"flood_test_data.csv\")\n",
        "\n",
        "bolivia_data = pd.read_csv(bolivia_data_path, header=None, names=[\"scene\", \"mask\"])\n",
        "train_data = pd.read_csv(train_data_path, header=None, names=[\"scene\", \"mask\"])\n",
        "valid_data = pd.read_csv(val_data_path, header=None, names=[\"scene\", \"mask\"])\n",
        "test_data = pd.read_csv(test_data_path, header=None, names=[\"scene\", \"mask\"])"
      ]
    },
    {
      "cell_type": "code",
      "execution_count": 29,
      "metadata": {},
      "outputs": [
        {
          "data": {
            "text/html": [
              "<div>\n",
              "<style scoped>\n",
              "    .dataframe tbody tr th:only-of-type {\n",
              "        vertical-align: middle;\n",
              "    }\n",
              "\n",
              "    .dataframe tbody tr th {\n",
              "        vertical-align: top;\n",
              "    }\n",
              "\n",
              "    .dataframe thead th {\n",
              "        text-align: right;\n",
              "    }\n",
              "</style>\n",
              "<table border=\"1\" class=\"dataframe\">\n",
              "  <thead>\n",
              "    <tr style=\"text-align: right;\">\n",
              "      <th></th>\n",
              "      <th>scene</th>\n",
              "      <th>mask</th>\n",
              "    </tr>\n",
              "  </thead>\n",
              "  <tbody>\n",
              "    <tr>\n",
              "      <th>0</th>\n",
              "      <td>Bolivia_103757_S1Hand.tif</td>\n",
              "      <td>Bolivia_103757_LabelHand.tif</td>\n",
              "    </tr>\n",
              "    <tr>\n",
              "      <th>1</th>\n",
              "      <td>Bolivia_129334_S1Hand.tif</td>\n",
              "      <td>Bolivia_129334_LabelHand.tif</td>\n",
              "    </tr>\n",
              "    <tr>\n",
              "      <th>2</th>\n",
              "      <td>Bolivia_195474_S1Hand.tif</td>\n",
              "      <td>Bolivia_195474_LabelHand.tif</td>\n",
              "    </tr>\n",
              "    <tr>\n",
              "      <th>3</th>\n",
              "      <td>Bolivia_23014_S1Hand.tif</td>\n",
              "      <td>Bolivia_23014_LabelHand.tif</td>\n",
              "    </tr>\n",
              "    <tr>\n",
              "      <th>4</th>\n",
              "      <td>Bolivia_233925_S1Hand.tif</td>\n",
              "      <td>Bolivia_233925_LabelHand.tif</td>\n",
              "    </tr>\n",
              "  </tbody>\n",
              "</table>\n",
              "</div>"
            ],
            "text/plain": [
              "                       scene                          mask\n",
              "0  Bolivia_103757_S1Hand.tif  Bolivia_103757_LabelHand.tif\n",
              "1  Bolivia_129334_S1Hand.tif  Bolivia_129334_LabelHand.tif\n",
              "2  Bolivia_195474_S1Hand.tif  Bolivia_195474_LabelHand.tif\n",
              "3   Bolivia_23014_S1Hand.tif   Bolivia_23014_LabelHand.tif\n",
              "4  Bolivia_233925_S1Hand.tif  Bolivia_233925_LabelHand.tif"
            ]
          },
          "execution_count": 29,
          "metadata": {},
          "output_type": "execute_result"
        }
      ],
      "source": [
        "bolivia_data.head()"
      ]
    },
    {
      "cell_type": "code",
      "execution_count": 28,
      "metadata": {},
      "outputs": [
        {
          "name": "stdout",
          "output_type": "stream",
          "text": [
            "Number of Bolivia scenes: 15\n",
            "Number of training scenes: 252\n",
            "Number of validation scenes: 89\n",
            "Number of test scenes: 90\n"
          ]
        }
      ],
      "source": [
        "num_bolivia = bolivia_data.shape[0]\n",
        "num_train = train_data.shape[0]\n",
        "num_valid = valid_data.shape[0]\n",
        "num_test = test_data.shape[0]\n",
        "\n",
        "print(f\"Number of Bolivia scenes: {num_bolivia}\")\n",
        "print(f\"Number of training scenes: {num_train}\")\n",
        "print(f\"Number of validation scenes: {num_valid}\")\n",
        "print(f\"Number of test scenes: {num_test}\")"
      ]
    },
    {
      "cell_type": "markdown",
      "metadata": {},
      "source": [
        "### By region:"
      ]
    }
  ],
  "metadata": {
    "colab": {
      "authorship_tag": "ABX9TyMRARi+w7NkJ3izlFtvU9g8",
      "include_colab_link": true,
      "provenance": []
    },
    "kernelspec": {
      "display_name": "Python 3",
      "name": "python3"
    },
    "language_info": {
      "codemirror_mode": {
        "name": "ipython",
        "version": 3
      },
      "file_extension": ".py",
      "mimetype": "text/x-python",
      "name": "python",
      "nbconvert_exporter": "python",
      "pygments_lexer": "ipython3",
      "version": "3.11.3"
    }
  },
  "nbformat": 4,
  "nbformat_minor": 0
}
